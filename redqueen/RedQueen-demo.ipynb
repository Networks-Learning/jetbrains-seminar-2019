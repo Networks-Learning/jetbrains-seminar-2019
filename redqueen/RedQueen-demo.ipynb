{
 "cells": [
  {
   "cell_type": "code",
   "execution_count": 1,
   "metadata": {},
   "outputs": [
    {
     "data": {
      "text/plain": [
       "<matplotlib.figure.Figure at 0x110c9fe80>"
      ]
     },
     "metadata": {},
     "output_type": "display_data"
    }
   ],
   "source": [
    "%matplotlib inline\n",
    "from matplotlib import pyplot as plt\n",
    "import seaborn as sns\n",
    "import numpy as np\n",
    "\n",
    "np.set_printoptions(suppress=True, precision=3)\n",
    "\n",
    "sns.set(style='ticks', palette='Set2')\n",
    "sns.despine()"
   ]
  },
  {
   "cell_type": "code",
   "execution_count": null,
   "metadata": {
    "collapsed": true
   },
   "outputs": [],
   "source": []
  },
  {
   "cell_type": "code",
   "execution_count": 2,
   "metadata": {},
   "outputs": [
    {
     "name": "stderr",
     "output_type": "stream",
     "text": [
      "/Users/musically_ut/prog/work/LVIV-2018/redqueen/opt_runs.py:19: UserWarning: broadcast.opt.optimizer was NOT imported. Comparison against method of Karimi et. al. method will not be possible.\n",
      "  warnings.warn('broadcast.opt.optimizer was NOT imported. '\n"
     ]
    }
   ],
   "source": [
    "import utils as U\n",
    "import opt_runs as OR\n",
    "import opt_model as OM\n",
    "import decorated_options as Deco"
   ]
  },
  {
   "cell_type": "code",
   "execution_count": null,
   "metadata": {
    "collapsed": true
   },
   "outputs": [],
   "source": []
  },
  {
   "cell_type": "code",
   "execution_count": null,
   "metadata": {
    "collapsed": true
   },
   "outputs": [],
   "source": []
  },
  {
   "cell_type": "markdown",
   "metadata": {
    "collapsed": true
   },
   "source": [
    "# Step 1: Create a SimOpts which will generate raw data"
   ]
  },
  {
   "cell_type": "code",
   "execution_count": 3,
   "metadata": {
    "collapsed": true
   },
   "outputs": [],
   "source": [
    "sim_opts_1_follower = OM.SimOpts(\n",
    "    src_id=0,\n",
    "    end_time=100,\n",
    "    s=np.array([1]),\n",
    "    q=1.0,\n",
    "    other_sources=[('Hawkes', {'src_id': 1, 'seed': 1, 'l_0': 1.0, 'alpha': 1.0, 'beta': 5.0})],\n",
    "    sink_ids=[1000],\n",
    "    edge_list=[(0, 1000), (1, 1000)]\n",
    ")\n",
    "src_id = sim_opts_1_follower.src_id"
   ]
  },
  {
   "cell_type": "code",
   "execution_count": null,
   "metadata": {
    "collapsed": true
   },
   "outputs": [],
   "source": []
  },
  {
   "cell_type": "markdown",
   "metadata": {
    "collapsed": true
   },
   "source": [
    "# Step 2: Simulate the walls along with different strategies for our broadcaster"
   ]
  },
  {
   "cell_type": "code",
   "execution_count": null,
   "metadata": {
    "collapsed": true
   },
   "outputs": [],
   "source": []
  },
  {
   "cell_type": "markdown",
   "metadata": {},
   "source": [
    "### RedQueen"
   ]
  },
  {
   "cell_type": "code",
   "execution_count": 96,
   "metadata": {},
   "outputs": [
    {
     "name": "stdout",
     "output_type": "stream",
     "text": [
      "CPU times: user 80.3 ms, sys: 3.37 ms, total: 83.7 ms\n",
      "Wall time: 82.1 ms\n"
     ]
    }
   ],
   "source": [
    "%%time\n",
    "seed = 1\n",
    "opt_mgr = sim_opts_1_follower.create_manager_with_opt(seed)\n",
    "opt_mgr.run_dynamic()\n",
    "opt_df = opt_mgr.state.get_dataframe()\n",
    "num_opt_tweets = U.num_tweets_of(opt_df, broadcaster_id=src_id)\n",
    "perf_opt = {\n",
    "    'type': 'Opt',\n",
    "    'seed': seed,\n",
    "    'capacity': num_opt_tweets,\n",
    "    'q': sim_opts_1_follower.q,\n",
    "}\n",
    "OR.add_perf(perf_opt, opt_df, sim_opts_1_follower)"
   ]
  },
  {
   "cell_type": "code",
   "execution_count": 97,
   "metadata": {},
   "outputs": [
    {
     "data": {
      "text/plain": [
       "{'avg_rank': 66.8116376874034,\n",
       " 'capacity': 78.0,\n",
       " 'num_events': 78,\n",
       " 'q': 1.0,\n",
       " 'r_2': 138.15727122691501,\n",
       " 'seed': 1,\n",
       " 'top_1': 56.517519051405124,\n",
       " 'type': 'Opt',\n",
       " 'world_events': 154}"
      ]
     },
     "execution_count": 97,
     "metadata": {},
     "output_type": "execute_result"
    }
   ],
   "source": [
    "perf_opt"
   ]
  },
  {
   "cell_type": "code",
   "execution_count": null,
   "metadata": {
    "collapsed": true
   },
   "outputs": [],
   "source": []
  },
  {
   "cell_type": "markdown",
   "metadata": {},
   "source": [
    "### Poisson"
   ]
  },
  {
   "cell_type": "code",
   "execution_count": 98,
   "metadata": {},
   "outputs": [
    {
     "name": "stdout",
     "output_type": "stream",
     "text": [
      "CPU times: user 95.5 ms, sys: 4.15 ms, total: 99.6 ms\n",
      "Wall time: 101 ms\n"
     ]
    }
   ],
   "source": [
    "%%time\n",
    "seed = 9\n",
    "poisson_mgr = sim_opts_1_follower.create_manager_with_poisson(seed, capacity=num_opt_tweets)\n",
    "poisson_mgr.run_dynamic()\n",
    "poisson_df = poisson_mgr.state.get_dataframe()\n",
    "num_poisson_tweets = U.num_tweets_of(poisson_df, broadcaster_id=src_id)\n",
    "perf_poisson = {\n",
    "    'type': 'Poisson',\n",
    "    'seed': seed,\n",
    "    'capacity': num_poisson_tweets,\n",
    "    'q': sim_opts_1_follower.q\n",
    "}\n",
    "OR.add_perf(perf_poisson, poisson_df, sim_opts_1_follower)"
   ]
  },
  {
   "cell_type": "code",
   "execution_count": 99,
   "metadata": {},
   "outputs": [
    {
     "data": {
      "text/plain": [
       "{'avg_rank': 201.3461740580856,\n",
       " 'capacity': 78.0,\n",
       " 'num_events': 78,\n",
       " 'q': 1.0,\n",
       " 'r_2': 1341.2792390212567,\n",
       " 'seed': 9,\n",
       " 'top_1': 39.68728199394901,\n",
       " 'type': 'Poisson',\n",
       " 'world_events': 154}"
      ]
     },
     "execution_count": 99,
     "metadata": {},
     "output_type": "execute_result"
    }
   ],
   "source": [
    "perf_poisson"
   ]
  },
  {
   "cell_type": "code",
   "execution_count": null,
   "metadata": {
    "collapsed": true
   },
   "outputs": [],
   "source": []
  },
  {
   "cell_type": "markdown",
   "metadata": {},
   "source": [
    "### Smart Poisson"
   ]
  },
  {
   "cell_type": "code",
   "execution_count": 102,
   "metadata": {},
   "outputs": [
    {
     "name": "stdout",
     "output_type": "stream",
     "text": [
      "CPU times: user 81.9 ms, sys: 4.64 ms, total: 86.5 ms\n",
      "Wall time: 84 ms\n"
     ]
    }
   ],
   "source": [
    "%%time\n",
    "seed = 24\n",
    "\n",
    "T = sim_opts_1_follower.end_time\n",
    "\n",
    "rate = num_opt_tweets / T * 4\n",
    "sp_mgr = sim_opts_1_follower.create_manager_with_smart_poisson(\n",
    "    seed,\n",
    "    rate=rate\n",
    ")\n",
    "\n",
    "sp_mgr.run_dynamic()\n",
    "sp_df = sp_mgr.state.get_dataframe()\n",
    "num_sp_tweets = U.num_tweets_of(sp_df, broadcaster_id=src_id)\n",
    "perf_sp = {\n",
    "    'type': 'Smart Poisson',\n",
    "    'seed': seed,\n",
    "}\n",
    "OR.add_perf(perf_sp, sp_df, sim_opts_1_follower)"
   ]
  },
  {
   "cell_type": "code",
   "execution_count": 103,
   "metadata": {},
   "outputs": [
    {
     "data": {
      "text/plain": [
       "{'avg_rank': 77.16101427531228,\n",
       " 'num_events': 80,\n",
       " 'r_2': 403.80126498258875,\n",
       " 'seed': 24,\n",
       " 'top_1': 63.975107578107554,\n",
       " 'type': 'Smart Poisson',\n",
       " 'world_events': 154}"
      ]
     },
     "execution_count": 103,
     "metadata": {},
     "output_type": "execute_result"
    }
   ],
   "source": [
    "perf_sp"
   ]
  },
  {
   "cell_type": "code",
   "execution_count": null,
   "metadata": {
    "collapsed": true
   },
   "outputs": [],
   "source": []
  },
  {
   "cell_type": "markdown",
   "metadata": {},
   "source": [
    "### Piecewise constant"
   ]
  },
  {
   "cell_type": "code",
   "execution_count": 100,
   "metadata": {},
   "outputs": [
    {
     "name": "stdout",
     "output_type": "stream",
     "text": [
      "CPU times: user 84.3 ms, sys: 2.82 ms, total: 87.1 ms\n",
      "Wall time: 86.1 ms\n"
     ]
    }
   ],
   "source": [
    "%%time\n",
    "seed = 24\n",
    "\n",
    "T = sim_opts_1_follower.end_time\n",
    "\n",
    "# Keep the rate such that the number of events is roughtly the same as the number of posts\n",
    "# made by RedQueen, but such that intensity of posting increases with time.\n",
    "segments = 10\n",
    "change_times = np.arange(0, segments) * T / segments\n",
    "rates = np.arange(0, segments) * (2 * num_opt_tweets / T) / (segments - 1)\n",
    "\n",
    "pwc_mgr = sim_opts_1_follower.create_manager_with_piecewise_const(\n",
    "    seed, \n",
    "    change_times=change_times,\n",
    "    rates=rates\n",
    ")\n",
    "\n",
    "pwc_mgr.run_dynamic()\n",
    "pwc_df = pwc_mgr.state.get_dataframe()\n",
    "num_pwc_tweets = U.num_tweets_of(pwc_df, broadcaster_id=src_id)\n",
    "perf_pwc = {\n",
    "    'type': 'PWC',\n",
    "    'seed': seed,\n",
    "    'capacity': num_pwc_tweets,\n",
    "}\n",
    "OR.add_perf(perf_pwc, pwc_df, sim_opts_1_follower)"
   ]
  },
  {
   "cell_type": "code",
   "execution_count": 101,
   "metadata": {},
   "outputs": [
    {
     "data": {
      "text/plain": [
       "{'avg_rank': 792.0379281739264,\n",
       " 'capacity': 78.0,\n",
       " 'num_events': 78,\n",
       " 'r_2': 22260.201256104978,\n",
       " 'seed': 24,\n",
       " 'top_1': 31.66329884023582,\n",
       " 'type': 'PWC',\n",
       " 'world_events': 154}"
      ]
     },
     "execution_count": 101,
     "metadata": {},
     "output_type": "execute_result"
    }
   ],
   "source": [
    "perf_pwc"
   ]
  },
  {
   "cell_type": "code",
   "execution_count": null,
   "metadata": {
    "collapsed": true
   },
   "outputs": [],
   "source": []
  },
  {
   "cell_type": "markdown",
   "metadata": {},
   "source": [
    "### Hawkes"
   ]
  },
  {
   "cell_type": "code",
   "execution_count": 106,
   "metadata": {},
   "outputs": [
    {
     "name": "stdout",
     "output_type": "stream",
     "text": [
      "CPU times: user 90 ms, sys: 2.93 ms, total: 92.9 ms\n",
      "Wall time: 95.8 ms\n"
     ]
    }
   ],
   "source": [
    "%%time\n",
    "seed = 489\n",
    "\n",
    "T = sim_opts_1_follower.end_time\n",
    "l_0, alpha, beta = 0.5, 0.5, 1.0\n",
    "hawkes_broadcaster = OM.Hawkes(src_id=src_id, l_0=l_0, alpha=alpha, beta=beta, seed=seed)\n",
    "\n",
    "hawkes_mgr = sim_opts_1_follower.create_manager_with_broadcaster(hawkes_broadcaster)\n",
    "\n",
    "hawkes_mgr.run_dynamic()\n",
    "hawkes_df = hawkes_mgr.state.get_dataframe()\n",
    "num_hawkes_tweets = U.num_tweets_of(hawkes_df, broadcaster_id=src_id)\n",
    "perf_hawkes = {\n",
    "    'type': 'Hawkes',\n",
    "    'seed': seed,\n",
    "    'alpha': alpha,\n",
    "    'beta': beta,\n",
    "    'l_0': l_0,\n",
    "}\n",
    "OR.add_perf(perf_hawkes, hawkes_df, sim_opts_1_follower)"
   ]
  },
  {
   "cell_type": "code",
   "execution_count": 107,
   "metadata": {},
   "outputs": [
    {
     "data": {
      "text/plain": [
       "{'alpha': 0.5,\n",
       " 'avg_rank': 272.3440076606438,\n",
       " 'beta': 1.0,\n",
       " 'l_0': 0.5,\n",
       " 'num_events': 78,\n",
       " 'r_2': 3744.460460961055,\n",
       " 'seed': 489,\n",
       " 'top_1': 41.09226240618488,\n",
       " 'type': 'Hawkes',\n",
       " 'world_events': 154}"
      ]
     },
     "execution_count": 107,
     "metadata": {},
     "output_type": "execute_result"
    }
   ],
   "source": [
    "perf_hawkes"
   ]
  },
  {
   "cell_type": "code",
   "execution_count": null,
   "metadata": {
    "collapsed": true
   },
   "outputs": [],
   "source": []
  },
  {
   "cell_type": "markdown",
   "metadata": {
    "collapsed": true
   },
   "source": [
    "# Step 3: Study the performance"
   ]
  },
  {
   "cell_type": "code",
   "execution_count": 114,
   "metadata": {
    "collapsed": true
   },
   "outputs": [],
   "source": [
    "experiments = {\n",
    "    'Poisson': poisson_df,\n",
    "    'Hawkes': hawkes_df,\n",
    "    'Smart': sp_df,\n",
    "    'PWC': pwc_df,\n",
    "    'RedQueen': opt_df,\n",
    "}"
   ]
  },
  {
   "cell_type": "code",
   "execution_count": 115,
   "metadata": {},
   "outputs": [
    {
     "name": "stdout",
     "output_type": "stream",
     "text": [
      "kind = Poisson\t\t num_tweets = 78.0\n",
      "kind = Hawkes\t\t num_tweets = 78.0\n",
      "kind = Smart\t\t num_tweets = 78.0\n",
      "kind = PWC\t\t num_tweets = 78.0\n",
      "kind = RedQueen\t\t num_tweets = 78.0\n"
     ]
    }
   ],
   "source": [
    "for kind, df in experiments.items():\n",
    "    print('kind = {}\\t\\t num_tweets = {}'.format(kind, U.num_tweets_of(opt_df, src_id)))"
   ]
  },
  {
   "cell_type": "code",
   "execution_count": null,
   "metadata": {
    "collapsed": true
   },
   "outputs": [],
   "source": []
  },
  {
   "cell_type": "code",
   "execution_count": 116,
   "metadata": {},
   "outputs": [
    {
     "name": "stdout",
     "output_type": "stream",
     "text": [
      "kind = Poisson\t\t avg_rank = 201.3461740580856\n",
      "kind = Hawkes\t\t avg_rank = 272.3440076606438\n",
      "kind = Smart\t\t avg_rank = 77.16101427531228\n",
      "kind = PWC\t\t avg_rank = 792.0379281739264\n",
      "kind = RedQueen\t\t avg_rank = 66.8116376874034\n"
     ]
    }
   ],
   "source": [
    "for kind, df in experiments.items():\n",
    "    print('kind = {}\\t\\t avg_rank = {}'\n",
    "          .format(kind, U.average_rank(df, sim_opts=sim_opts_1_follower)))"
   ]
  },
  {
   "cell_type": "code",
   "execution_count": null,
   "metadata": {
    "collapsed": true
   },
   "outputs": [],
   "source": []
  },
  {
   "cell_type": "code",
   "execution_count": 117,
   "metadata": {},
   "outputs": [
    {
     "name": "stdout",
     "output_type": "stream",
     "text": [
      "kind = Poisson\t\t top-1 = 39.68728199394901\n",
      "kind = Hawkes\t\t top-1 = 41.09226240618488\n",
      "kind = Smart\t\t top-1 = 63.975107578107554\n",
      "kind = PWC\t\t top-1 = 31.66329884023582\n",
      "kind = RedQueen\t\t top-1 = 56.517519051405124\n"
     ]
    }
   ],
   "source": [
    "K = 1\n",
    "for kind, df in experiments.items():\n",
    "    print('kind = {}\\t\\t top-{} = {}'\n",
    "          .format(kind, K, U.time_in_top_k(df, K=K, sim_opts=sim_opts_1_follower)))"
   ]
  },
  {
   "cell_type": "code",
   "execution_count": null,
   "metadata": {
    "collapsed": true
   },
   "outputs": [],
   "source": []
  },
  {
   "cell_type": "markdown",
   "metadata": {},
   "source": [
    "### Rank"
   ]
  },
  {
   "cell_type": "code",
   "execution_count": 123,
   "metadata": {
    "collapsed": true
   },
   "outputs": [],
   "source": [
    "def plot_rank_evolution(df, src_id, title=None):\n",
    "    # plt.figure(figsize=(8,6))\n",
    "    \n",
    "    c1, c2 = sns.color_palette(n_colors=2)\n",
    "\n",
    "    ranks = U.rank_of_src_in_df(df, src_id).mean(axis=1)\n",
    "    \n",
    "    fig, ax1 = plt.subplots()\n",
    "    \n",
    "    ax1.fill_between(ranks.index, ranks.values, step='post',\n",
    "                     color=c1, label=r'$\\bar{r}(t)$', alpha=0.5)\n",
    "    \n",
    "    ax1.set_ylabel('Rank')\n",
    "    ax1.set_xlabel('Time')\n",
    "    ax1.tick_params('y', colors=c1)\n",
    "    ax1.set_ylim(0)\n",
    "    \n",
    "    tweet_times = df[(df.src_id == src_id)].t.unique()\n",
    "    num_tweets = tweet_times.shape[0]\n",
    "    \n",
    "    ax2 = ax1.twinx()\n",
    "    ax2.step(tweet_times, np.arange(num_tweets),\n",
    "             label='$N(t)$', color=c2, linewidth=1.0)\n",
    "    \n",
    "    ax2.set_ylabel('Tweets')\n",
    "    ax2.tick_params('y', colors=c2)\n",
    "    ax2.set_ylim(0)\n",
    "    \n",
    "    if title is not None:\n",
    "        plt.title(title)\n",
    "    \n",
    "    plt.tight_layout()"
   ]
  },
  {
   "cell_type": "code",
   "execution_count": null,
   "metadata": {
    "collapsed": true
   },
   "outputs": [],
   "source": []
  },
  {
   "cell_type": "code",
   "execution_count": 124,
   "metadata": {},
   "outputs": [
    {
     "data": {
      "image/png": "[encoded data removed]",
      "text/plain": [
       "<matplotlib.figure.Figure at 0x119e9c0b8>"
      ]
     },
     "metadata": {},
     "output_type": "display_data"
    }
   ],
   "source": [
    "plot_rank_evolution(opt_df, src_id, title='RedQueen')"
   ]
  },
  {
   "cell_type": "code",
   "execution_count": 125,
   "metadata": {},
   "outputs": [
    {
     "data": {
      "image/png": "[encoded data removed]",
      "text/plain": [
       "<matplotlib.figure.Figure at 0x1191afdd8>"
      ]
     },
     "metadata": {},
     "output_type": "display_data"
    }
   ],
   "source": [
    "plot_rank_evolution(sp_df, src_id, title='Smart')"
   ]
  },
  {
   "cell_type": "code",
   "execution_count": 126,
   "metadata": {},
   "outputs": [
    {
     "data": {
      "image/png": "[encoded data removed]",
      "text/plain": [
       "<matplotlib.figure.Figure at 0x119553390>"
      ]
     },
     "metadata": {},
     "output_type": "display_data"
    }
   ],
   "source": [
    "plot_rank_evolution(poisson_df, src_id, title='Poisson')"
   ]
  },
  {
   "cell_type": "code",
   "execution_count": 135,
   "metadata": {},
   "outputs": [
    {
     "data": {
      "image/png": "[encoded data removed]",
      "text/plain": [
       "<matplotlib.figure.Figure at 0x119da53c8>"
      ]
     },
     "metadata": {},
     "output_type": "display_data"
    }
   ],
   "source": [
    "plot_rank_evolution(pwc_df, src_id, title='Piecewise Const')"
   ]
  },
  {
   "cell_type": "code",
   "execution_count": 128,
   "metadata": {},
   "outputs": [
    {
     "data": {
      "image/png": "[encoded data removed]",
      "text/plain": [
       "<matplotlib.figure.Figure at 0x1197d3f98>"
      ]
     },
     "metadata": {},
     "output_type": "display_data"
    }
   ],
   "source": [
    "plot_rank_evolution(hawkes_df, src_id, title='Hawkes')"
   ]
  },
  {
   "cell_type": "code",
   "execution_count": null,
   "metadata": {
    "collapsed": true
   },
   "outputs": [],
   "source": []
  },
  {
   "cell_type": "markdown",
   "metadata": {},
   "source": [
    "### Top-k"
   ]
  },
  {
   "cell_type": "code",
   "execution_count": 129,
   "metadata": {
    "collapsed": true
   },
   "outputs": [],
   "source": [
    "def plot_top_k_evolution(df, src_id, K=1, T=100, ymax=None, title=None):\n",
    "    # plt.figure(figsize=(8,6))    \n",
    "    c1, c2 = sns.color_palette(n_colors=2)\n",
    "\n",
    "    top_k = (U.rank_of_src_in_df(df, src_id) < K).mean(axis=1)\n",
    "    \n",
    "    times = np.asarray([0] + top_k.index.values.tolist() + [T])\n",
    "    t_diff = np.diff(times)\n",
    "    top_k_indicator = np.array([0] + top_k.values.tolist())\n",
    "\n",
    "    fig, ax1 = plt.subplots()    \n",
    "\n",
    "    ax1.fill_between(times[:-1], np.cumsum(top_k_indicator * t_diff), step='post',\n",
    "                     color=c1, label=r'$1_{[r(t) <= %d]}$' % K,\n",
    "                     alpha=0.5)\n",
    "    \n",
    "    ax1.set_ylabel('Time in Top-{}'.format(K))\n",
    "    ax1.set_xlabel('Time')\n",
    "    ax1.tick_params('y', colors=c1)\n",
    "    \n",
    "    if ymax is None:\n",
    "        ax1.set_ylim(0)\n",
    "    else:\n",
    "        ax1.set_ylim(0, ymax)\n",
    "    \n",
    "    tweet_times = df[(df.src_id == src_id)].t.unique()\n",
    "    num_tweets = tweet_times.shape[0]\n",
    "    \n",
    "    ax2 = ax1.twinx()\n",
    "    # plt.vlines(tweet_times[one_month_df] * 60 / 10000, ymin=0, ymax=1200, color=c2, linewidth=0.5)\n",
    "    ax2.step(tweet_times, np.arange(num_tweets),\n",
    "             label='$N(t)$', color=c2, linewidth=1.0)\n",
    "    \n",
    "    ax2.set_ylabel('Tweets')\n",
    "    ax2.tick_params('y', colors=c2)\n",
    "    ax2.set_ylim(0)\n",
    "    \n",
    "    if title is not None:\n",
    "        plt.title(title)\n",
    "        \n",
    "    plt.tight_layout()"
   ]
  },
  {
   "cell_type": "code",
   "execution_count": 131,
   "metadata": {},
   "outputs": [
    {
     "data": {
      "image/png": "[encoded data removed]",
      "text/plain": [
       "<matplotlib.figure.Figure at 0x1192000f0>"
      ]
     },
     "metadata": {},
     "output_type": "display_data"
    }
   ],
   "source": [
    "plot_top_k_evolution(opt_df, src_id, ymax=75, title='RedQueen')"
   ]
  },
  {
   "cell_type": "code",
   "execution_count": 132,
   "metadata": {},
   "outputs": [
    {
     "data": {
      "image/png": "[encoded data removed]",
      "text/plain": [
       "<matplotlib.figure.Figure at 0x1196027b8>"
      ]
     },
     "metadata": {},
     "output_type": "display_data"
    }
   ],
   "source": [
    "plot_top_k_evolution(sp_df, src_id, ymax=75, title='Smart')"
   ]
  },
  {
   "cell_type": "code",
   "execution_count": 133,
   "metadata": {},
   "outputs": [
    {
     "data": {
      "image/png": "[encoded data removed]",
      "text/plain": [
       "<matplotlib.figure.Figure at 0x119e050b8>"
      ]
     },
     "metadata": {},
     "output_type": "display_data"
    }
   ],
   "source": [
    "plot_top_k_evolution(poisson_df, src_id, ymax=75, title='Poisson')"
   ]
  },
  {
   "cell_type": "code",
   "execution_count": 134,
   "metadata": {},
   "outputs": [
    {
     "data": {
      "image/png": "[encoded data removed]",
      "text/plain": [
       "<matplotlib.figure.Figure at 0x1191ad3c8>"
      ]
     },
     "metadata": {},
     "output_type": "display_data"
    }
   ],
   "source": [
    "plot_top_k_evolution(pwc_df, src_id, ymax=60, title='Piecewise Const')"
   ]
  },
  {
   "cell_type": "code",
   "execution_count": 136,
   "metadata": {},
   "outputs": [
    {
     "data": {
      "image/png": "[encoded data removed]",
      "text/plain": [
       "<matplotlib.figure.Figure at 0x119612eb8>"
      ]
     },
     "metadata": {},
     "output_type": "display_data"
    }
   ],
   "source": [
    "plot_top_k_evolution(hawkes_df, src_id, ymax=60, title='Hawkes')"
   ]
  },
  {
   "cell_type": "code",
   "execution_count": null,
   "metadata": {
    "collapsed": true
   },
   "outputs": [],
   "source": []
  },
  {
   "cell_type": "code",
   "execution_count": null,
   "metadata": {
    "collapsed": true
   },
   "outputs": [],
   "source": []
  },
  {
   "cell_type": "code",
   "execution_count": null,
   "metadata": {
    "collapsed": true
   },
   "outputs": [],
   "source": []
  },
  {
   "cell_type": "code",
   "execution_count": null,
   "metadata": {
    "collapsed": true
   },
   "outputs": [],
   "source": []
  }
 ],
 "metadata": {
  "kernelspec": {
   "display_name": "Python 3",
   "language": "python",
   "name": "python3"
  },
  "language_info": {
   "codemirror_mode": {
    "name": "ipython",
    "version": 3
   },
   "file_extension": ".py",
   "mimetype": "text/x-python",
   "name": "python",
   "nbconvert_exporter": "python",
   "pygments_lexer": "ipython3",
   "version": "3.6.1"
  }
 },
 "nbformat": 4,
 "nbformat_minor": 1
}
