{
 "cells": [
  {
   "cell_type": "code",
   "execution_count": 1,
   "metadata": {},
   "outputs": [
    {
     "data": {
      "text/plain": [
       "<matplotlib.figure.Figure at 0x11482a0b8>"
      ]
     },
     "metadata": {},
     "output_type": "display_data"
    }
   ],
   "source": [
    "%matplotlib inline\n",
    "from matplotlib import pyplot as plt\n",
    "import seaborn as sns\n",
    "import numpy as np\n",
    "\n",
    "np.set_printoptions(suppress=True, precision=3)\n",
    "\n",
    "sns.set(style='ticks', palette='Set2')\n",
    "sns.despine()"
   ]
  },
  {
   "cell_type": "code",
   "execution_count": null,
   "metadata": {},
   "outputs": [],
   "source": []
  },
  {
   "cell_type": "code",
   "execution_count": 2,
   "metadata": {},
   "outputs": [
    {
     "name": "stderr",
     "output_type": "stream",
     "text": [
      "/Users/musically_ut/prog/work/petersburg-2019/redqueen/opt_runs.py:19: UserWarning: broadcast.opt.optimizer was NOT imported. Comparison against method of Karimi et. al. method will not be possible.\n",
      "  warnings.warn('broadcast.opt.optimizer was NOT imported. '\n"
     ]
    }
   ],
   "source": [
    "import utils as U\n",
    "import opt_runs as OR\n",
    "import opt_model_soln as OM\n",
    "import decorated_options as Deco"
   ]
  },
  {
   "cell_type": "code",
   "execution_count": null,
   "metadata": {},
   "outputs": [],
   "source": []
  },
  {
   "cell_type": "code",
   "execution_count": null,
   "metadata": {},
   "outputs": [],
   "source": []
  },
  {
   "cell_type": "markdown",
   "metadata": {
    "collapsed": true
   },
   "source": [
    "# Step 1: Create a SimOpts which will generate raw data"
   ]
  },
  {
   "cell_type": "code",
   "execution_count": 3,
   "metadata": {},
   "outputs": [],
   "source": [
    "sim_opts_1_follower = OM.SimOpts(\n",
    "    src_id=0,\n",
    "    end_time=100,\n",
    "    s=np.array([1]),\n",
    "    q=1.0,\n",
    "    other_sources=[('Hawkes', {'src_id': 1, 'seed': 1, 'l_0': 1.0, 'alpha': 1.0, 'beta': 5.0})],\n",
    "    sink_ids=[1000],\n",
    "    edge_list=[(0, 1000), (1, 1000)]\n",
    ")\n",
    "src_id = sim_opts_1_follower.src_id"
   ]
  },
  {
   "cell_type": "code",
   "execution_count": null,
   "metadata": {},
   "outputs": [],
   "source": []
  },
  {
   "cell_type": "markdown",
   "metadata": {
    "collapsed": true
   },
   "source": [
    "# Step 2: Simulate the walls along with different strategies for our broadcaster"
   ]
  },
  {
   "cell_type": "code",
   "execution_count": null,
   "metadata": {},
   "outputs": [],
   "source": []
  },
  {
   "cell_type": "markdown",
   "metadata": {},
   "source": [
    "### RedQueen"
   ]
  },
  {
   "cell_type": "code",
   "execution_count": 4,
   "metadata": {},
   "outputs": [
    {
     "name": "stdout",
     "output_type": "stream",
     "text": [
      "CPU times: user 114 ms, sys: 16.4 ms, total: 130 ms\n",
      "Wall time: 144 ms\n"
     ]
    }
   ],
   "source": [
    "%%time\n",
    "seed = 1\n",
    "opt_mgr = sim_opts_1_follower.create_manager_with_opt(seed)\n",
    "opt_mgr.run_dynamic()\n",
    "opt_df = opt_mgr.state.get_dataframe()\n",
    "num_opt_tweets = U.num_tweets_of(opt_df, broadcaster_id=src_id)\n",
    "perf_opt = {\n",
    "    'type': 'Opt',\n",
    "    'seed': seed,\n",
    "    'capacity': num_opt_tweets,\n",
    "    'q': sim_opts_1_follower.q,\n",
    "}\n",
    "OR.add_perf(perf_opt, opt_df, sim_opts_1_follower)"
   ]
  },
  {
   "cell_type": "code",
   "execution_count": 5,
   "metadata": {},
   "outputs": [
    {
     "data": {
      "text/plain": [
       "{'type': 'Opt',\n",
       " 'seed': 1,\n",
       " 'capacity': 60.0,\n",
       " 'q': 1.0,\n",
       " 'top_1': 60.564200927977325,\n",
       " 'avg_rank': 54.90032945274162,\n",
       " 'r_2': 96.66734382976145,\n",
       " 'world_events': 111,\n",
       " 'num_events': 60}"
      ]
     },
     "execution_count": 5,
     "metadata": {},
     "output_type": "execute_result"
    }
   ],
   "source": [
    "perf_opt"
   ]
  },
  {
   "cell_type": "code",
   "execution_count": null,
   "metadata": {},
   "outputs": [],
   "source": []
  },
  {
   "cell_type": "markdown",
   "metadata": {},
   "source": [
    "### Poisson"
   ]
  },
  {
   "cell_type": "code",
   "execution_count": 6,
   "metadata": {},
   "outputs": [
    {
     "name": "stdout",
     "output_type": "stream",
     "text": [
      "CPU times: user 89.7 ms, sys: 2.82 ms, total: 92.6 ms\n",
      "Wall time: 95 ms\n"
     ]
    }
   ],
   "source": [
    "%%time\n",
    "seed = 9\n",
    "poisson_mgr = sim_opts_1_follower.create_manager_with_poisson(seed, capacity=num_opt_tweets)\n",
    "poisson_mgr.run_dynamic()\n",
    "poisson_df = poisson_mgr.state.get_dataframe()\n",
    "num_poisson_tweets = U.num_tweets_of(poisson_df, broadcaster_id=src_id)\n",
    "perf_poisson = {\n",
    "    'type': 'Poisson',\n",
    "    'seed': seed,\n",
    "    'capacity': num_poisson_tweets,\n",
    "    'q': sim_opts_1_follower.q\n",
    "}\n",
    "OR.add_perf(perf_poisson, poisson_df, sim_opts_1_follower)"
   ]
  },
  {
   "cell_type": "code",
   "execution_count": 7,
   "metadata": {},
   "outputs": [
    {
     "data": {
      "text/plain": [
       "{'type': 'Poisson',\n",
       " 'seed': 9,\n",
       " 'capacity': 60.0,\n",
       " 'q': 1.0,\n",
       " 'top_1': 42.801882649469746,\n",
       " 'avg_rank': 204.08024707116576,\n",
       " 'r_2': 1256.2865877657428,\n",
       " 'world_events': 111,\n",
       " 'num_events': 60}"
      ]
     },
     "execution_count": 7,
     "metadata": {},
     "output_type": "execute_result"
    }
   ],
   "source": [
    "perf_poisson"
   ]
  },
  {
   "cell_type": "code",
   "execution_count": null,
   "metadata": {},
   "outputs": [],
   "source": []
  },
  {
   "cell_type": "markdown",
   "metadata": {},
   "source": [
    "### Smart Poisson"
   ]
  },
  {
   "cell_type": "code",
   "execution_count": 8,
   "metadata": {},
   "outputs": [
    {
     "name": "stdout",
     "output_type": "stream",
     "text": [
      "CPU times: user 63.1 ms, sys: 1.9 ms, total: 65 ms\n",
      "Wall time: 64.1 ms\n"
     ]
    }
   ],
   "source": [
    "%%time\n",
    "seed = 24\n",
    "\n",
    "T = sim_opts_1_follower.end_time\n",
    "\n",
    "rate = num_opt_tweets / T * 4\n",
    "sp_mgr = sim_opts_1_follower.create_manager_with_smart_poisson(\n",
    "    seed,\n",
    "    rate=rate\n",
    ")\n",
    "\n",
    "sp_mgr.run_dynamic()\n",
    "sp_df = sp_mgr.state.get_dataframe()\n",
    "num_sp_tweets = U.num_tweets_of(sp_df, broadcaster_id=src_id)\n",
    "perf_sp = {\n",
    "    'type': 'Smart Poisson',\n",
    "    'seed': seed,\n",
    "}\n",
    "OR.add_perf(perf_sp, sp_df, sim_opts_1_follower)"
   ]
  },
  {
   "cell_type": "code",
   "execution_count": 9,
   "metadata": {},
   "outputs": [
    {
     "data": {
      "text/plain": [
       "{'type': 'Smart Poisson',\n",
       " 'seed': 24,\n",
       " 'top_1': 61.3181305094032,\n",
       " 'avg_rank': 61.472286371388144,\n",
       " 'r_2': 136.30369011894362,\n",
       " 'world_events': 111,\n",
       " 'num_events': 66}"
      ]
     },
     "execution_count": 9,
     "metadata": {},
     "output_type": "execute_result"
    }
   ],
   "source": [
    "perf_sp"
   ]
  },
  {
   "cell_type": "code",
   "execution_count": null,
   "metadata": {},
   "outputs": [],
   "source": []
  },
  {
   "cell_type": "markdown",
   "metadata": {},
   "source": [
    "### Piecewise constant"
   ]
  },
  {
   "cell_type": "code",
   "execution_count": 10,
   "metadata": {},
   "outputs": [
    {
     "name": "stdout",
     "output_type": "stream",
     "text": [
      "CPU times: user 80.1 ms, sys: 4.84 ms, total: 84.9 ms\n",
      "Wall time: 81.9 ms\n"
     ]
    }
   ],
   "source": [
    "%%time\n",
    "seed = 24\n",
    "\n",
    "T = sim_opts_1_follower.end_time\n",
    "\n",
    "# Keep the rate such that the number of events is roughtly the same as the number of posts\n",
    "# made by RedQueen, but such that intensity of posting increases with time.\n",
    "segments = 10\n",
    "change_times = np.arange(0, segments) * T / segments\n",
    "rates = np.arange(0, segments) * (2 * num_opt_tweets / T) / (segments - 1)\n",
    "\n",
    "pwc_mgr = sim_opts_1_follower.create_manager_with_piecewise_const(\n",
    "    seed, \n",
    "    change_times=change_times,\n",
    "    rates=rates\n",
    ")\n",
    "\n",
    "pwc_mgr.run_dynamic()\n",
    "pwc_df = pwc_mgr.state.get_dataframe()\n",
    "num_pwc_tweets = U.num_tweets_of(pwc_df, broadcaster_id=src_id)\n",
    "perf_pwc = {\n",
    "    'type': 'PWC',\n",
    "    'seed': seed,\n",
    "    'capacity': num_pwc_tweets,\n",
    "}\n",
    "OR.add_perf(perf_pwc, pwc_df, sim_opts_1_follower)"
   ]
  },
  {
   "cell_type": "code",
   "execution_count": 11,
   "metadata": {},
   "outputs": [
    {
     "data": {
      "text/plain": [
       "{'type': 'PWC',\n",
       " 'seed': 24,\n",
       " 'capacity': 61.0,\n",
       " 'top_1': 34.23988664060658,\n",
       " 'avg_rank': 521.141391065357,\n",
       " 'r_2': 9338.652496069519,\n",
       " 'world_events': 111,\n",
       " 'num_events': 61}"
      ]
     },
     "execution_count": 11,
     "metadata": {},
     "output_type": "execute_result"
    }
   ],
   "source": [
    "perf_pwc"
   ]
  },
  {
   "cell_type": "code",
   "execution_count": null,
   "metadata": {},
   "outputs": [],
   "source": []
  },
  {
   "cell_type": "markdown",
   "metadata": {},
   "source": [
    "### Hawkes"
   ]
  },
  {
   "cell_type": "code",
   "execution_count": 12,
   "metadata": {},
   "outputs": [
    {
     "name": "stdout",
     "output_type": "stream",
     "text": [
      "CPU times: user 114 ms, sys: 2.87 ms, total: 116 ms\n",
      "Wall time: 117 ms\n"
     ]
    }
   ],
   "source": [
    "%%time\n",
    "seed = 489\n",
    "\n",
    "T = sim_opts_1_follower.end_time\n",
    "l_0, alpha, beta = 0.5, 0.5, 1.0\n",
    "hawkes_broadcaster = OM.Hawkes(src_id=src_id, l_0=l_0, alpha=alpha, beta=beta, seed=seed)\n",
    "\n",
    "hawkes_mgr = sim_opts_1_follower.create_manager_with_broadcaster(hawkes_broadcaster)\n",
    "\n",
    "hawkes_mgr.run_dynamic()\n",
    "hawkes_df = hawkes_mgr.state.get_dataframe()\n",
    "num_hawkes_tweets = U.num_tweets_of(hawkes_df, broadcaster_id=src_id)\n",
    "perf_hawkes = {\n",
    "    'type': 'Hawkes',\n",
    "    'seed': seed,\n",
    "    'alpha': alpha,\n",
    "    'beta': beta,\n",
    "    'l_0': l_0,\n",
    "}\n",
    "OR.add_perf(perf_hawkes, hawkes_df, sim_opts_1_follower)"
   ]
  },
  {
   "cell_type": "code",
   "execution_count": 13,
   "metadata": {},
   "outputs": [
    {
     "data": {
      "text/plain": [
       "{'type': 'Hawkes',\n",
       " 'seed': 489,\n",
       " 'alpha': 0.5,\n",
       " 'beta': 1.0,\n",
       " 'l_0': 0.5,\n",
       " 'top_1': 42.517166198531285,\n",
       " 'avg_rank': 164.4527793271227,\n",
       " 'r_2': 908.1392856705268,\n",
       " 'world_events': 111,\n",
       " 'num_events': 89}"
      ]
     },
     "execution_count": 13,
     "metadata": {},
     "output_type": "execute_result"
    }
   ],
   "source": [
    "perf_hawkes"
   ]
  },
  {
   "cell_type": "code",
   "execution_count": null,
   "metadata": {},
   "outputs": [],
   "source": []
  },
  {
   "cell_type": "markdown",
   "metadata": {
    "collapsed": true
   },
   "source": [
    "# Step 3: Study the performance"
   ]
  },
  {
   "cell_type": "code",
   "execution_count": 14,
   "metadata": {},
   "outputs": [],
   "source": [
    "experiments = {\n",
    "    'Poisson': poisson_df,\n",
    "    'Hawkes': hawkes_df,\n",
    "    'Smart': sp_df,\n",
    "    'PWC': pwc_df,\n",
    "    'RedQueen': opt_df,\n",
    "}"
   ]
  },
  {
   "cell_type": "code",
   "execution_count": 15,
   "metadata": {},
   "outputs": [
    {
     "name": "stdout",
     "output_type": "stream",
     "text": [
      "kind = Poisson\t\t num_tweets = 60.0\n",
      "kind = Hawkes\t\t num_tweets = 60.0\n",
      "kind = Smart\t\t num_tweets = 60.0\n",
      "kind = PWC\t\t num_tweets = 60.0\n",
      "kind = RedQueen\t\t num_tweets = 60.0\n"
     ]
    }
   ],
   "source": [
    "for kind, df in experiments.items():\n",
    "    print('kind = {}\\t\\t num_tweets = {}'.format(kind, U.num_tweets_of(opt_df, src_id)))"
   ]
  },
  {
   "cell_type": "code",
   "execution_count": null,
   "metadata": {},
   "outputs": [],
   "source": []
  },
  {
   "cell_type": "code",
   "execution_count": 16,
   "metadata": {},
   "outputs": [
    {
     "name": "stdout",
     "output_type": "stream",
     "text": [
      "kind = Poisson\t\t avg_rank = 204.08024707116576\n",
      "kind = Hawkes\t\t avg_rank = 164.4527793271227\n",
      "kind = Smart\t\t avg_rank = 61.472286371388144\n",
      "kind = PWC\t\t avg_rank = 521.141391065357\n",
      "kind = RedQueen\t\t avg_rank = 54.90032945274162\n"
     ]
    }
   ],
   "source": [
    "for kind, df in experiments.items():\n",
    "    print('kind = {}\\t\\t avg_rank = {}'\n",
    "          .format(kind, U.average_rank(df, sim_opts=sim_opts_1_follower)))"
   ]
  },
  {
   "cell_type": "code",
   "execution_count": null,
   "metadata": {},
   "outputs": [],
   "source": []
  },
  {
   "cell_type": "code",
   "execution_count": 17,
   "metadata": {},
   "outputs": [
    {
     "name": "stdout",
     "output_type": "stream",
     "text": [
      "kind = Poisson\t\t top-1 = 42.801882649469746\n",
      "kind = Hawkes\t\t top-1 = 42.517166198531285\n",
      "kind = Smart\t\t top-1 = 61.3181305094032\n",
      "kind = PWC\t\t top-1 = 34.23988664060658\n",
      "kind = RedQueen\t\t top-1 = 60.564200927977325\n"
     ]
    }
   ],
   "source": [
    "K = 1\n",
    "for kind, df in experiments.items():\n",
    "    print('kind = {}\\t\\t top-{} = {}'\n",
    "          .format(kind, K, U.time_in_top_k(df, K=K, sim_opts=sim_opts_1_follower)))"
   ]
  },
  {
   "cell_type": "code",
   "execution_count": null,
   "metadata": {},
   "outputs": [],
   "source": []
  },
  {
   "cell_type": "markdown",
   "metadata": {},
   "source": [
    "### Rank"
   ]
  },
  {
   "cell_type": "code",
   "execution_count": 18,
   "metadata": {},
   "outputs": [],
   "source": [
    "def plot_rank_evolution(df, src_id, title=None):\n",
    "    # plt.figure(figsize=(8,6))\n",
    "    \n",
    "    c1, c2 = sns.color_palette(n_colors=2)\n",
    "\n",
    "    ranks = U.rank_of_src_in_df(df, src_id).mean(axis=1)\n",
    "    \n",
    "    fig, ax1 = plt.subplots()\n",
    "    \n",
    "    ax1.fill_between(ranks.index, ranks.values, step='post',\n",
    "                     color=c1, label=r'$\\bar{r}(t)$', alpha=0.5)\n",
    "    \n",
    "    ax1.set_ylabel('Rank')\n",
    "    ax1.set_xlabel('Time')\n",
    "    ax1.tick_params('y', colors=c1)\n",
    "    ax1.set_ylim(0)\n",
    "    \n",
    "    tweet_times = df[(df.src_id == src_id)].t.unique()\n",
    "    num_tweets = tweet_times.shape[0]\n",
    "    \n",
    "    ax2 = ax1.twinx()\n",
    "    ax2.step(tweet_times, np.arange(num_tweets),\n",
    "             label='$N(t)$', color=c2, linewidth=1.0)\n",
    "    \n",
    "    ax2.set_ylabel('Tweets')\n",
    "    ax2.tick_params('y', colors=c2)\n",
    "    ax2.set_ylim(0)\n",
    "    \n",
    "    if title is not None:\n",
    "        plt.title(title)\n",
    "    \n",
    "    plt.tight_layout()"
   ]
  },
  {
   "cell_type": "code",
   "execution_count": null,
   "metadata": {},
   "outputs": [],
   "source": []
  },
  {
   "cell_type": "code",
   "execution_count": 19,
   "metadata": {},
   "outputs": [
    {
     "data": {
      "image/png": "[encoded data removed]",
      "text/plain": [
       "<matplotlib.figure.Figure at 0x1a18de8c88>"
      ]
     },
     "metadata": {},
     "output_type": "display_data"
    }
   ],
   "source": [
    "plot_rank_evolution(opt_df, src_id, title='RedQueen')"
   ]
  },
  {
   "cell_type": "code",
   "execution_count": 20,
   "metadata": {},
   "outputs": [
    {
     "data": {
      "image/png": "[encoded data removed]",
      "text/plain": [
       "<matplotlib.figure.Figure at 0x1a18ef3630>"
      ]
     },
     "metadata": {},
     "output_type": "display_data"
    }
   ],
   "source": [
    "plot_rank_evolution(sp_df, src_id, title='Smart')"
   ]
  },
  {
   "cell_type": "code",
   "execution_count": 21,
   "metadata": {},
   "outputs": [
    {
     "data": {
      "image/png": "[encoded data removed]",
      "text/plain": [
       "<matplotlib.figure.Figure at 0x1a18f9add8>"
      ]
     },
     "metadata": {},
     "output_type": "display_data"
    }
   ],
   "source": [
    "plot_rank_evolution(poisson_df, src_id, title='Poisson')"
   ]
  },
  {
   "cell_type": "code",
   "execution_count": 22,
   "metadata": {},
   "outputs": [
    {
     "data": {
      "image/png": "[encoded data removed]",
      "text/plain": [
       "<matplotlib.figure.Figure at 0x1a18d7be80>"
      ]
     },
     "metadata": {},
     "output_type": "display_data"
    }
   ],
   "source": [
    "plot_rank_evolution(pwc_df, src_id, title='Piecewise Const')"
   ]
  },
  {
   "cell_type": "code",
   "execution_count": 23,
   "metadata": {},
   "outputs": [
    {
     "data": {
      "image/png": "[encoded data removed]",
      "text/plain": [
       "<matplotlib.figure.Figure at 0x1a18e881d0>"
      ]
     },
     "metadata": {},
     "output_type": "display_data"
    }
   ],
   "source": [
    "plot_rank_evolution(hawkes_df, src_id, title='Hawkes')"
   ]
  },
  {
   "cell_type": "code",
   "execution_count": null,
   "metadata": {},
   "outputs": [],
   "source": []
  },
  {
   "cell_type": "markdown",
   "metadata": {},
   "source": [
    "### Top-k"
   ]
  },
  {
   "cell_type": "code",
   "execution_count": 24,
   "metadata": {},
   "outputs": [],
   "source": [
    "def plot_top_k_evolution(df, src_id, K=1, T=100, ymax=None, title=None):\n",
    "    # plt.figure(figsize=(8,6))    \n",
    "    c1, c2 = sns.color_palette(n_colors=2)\n",
    "\n",
    "    top_k = (U.rank_of_src_in_df(df, src_id) < K).mean(axis=1)\n",
    "    \n",
    "    times = np.asarray([0] + top_k.index.values.tolist() + [T])\n",
    "    t_diff = np.diff(times)\n",
    "    top_k_indicator = np.array([0] + top_k.values.tolist())\n",
    "\n",
    "    fig, ax1 = plt.subplots()    \n",
    "\n",
    "    ax1.fill_between(times[:-1], np.cumsum(top_k_indicator * t_diff), step='post',\n",
    "                     color=c1, label=r'$1_{[r(t) <= %d]}$' % K,\n",
    "                     alpha=0.5)\n",
    "    \n",
    "    ax1.set_ylabel('Time in Top-{}'.format(K))\n",
    "    ax1.set_xlabel('Time')\n",
    "    ax1.tick_params('y', colors=c1)\n",
    "    \n",
    "    if ymax is None:\n",
    "        ax1.set_ylim(0)\n",
    "    else:\n",
    "        ax1.set_ylim(0, ymax)\n",
    "    \n",
    "    tweet_times = df[(df.src_id == src_id)].t.unique()\n",
    "    num_tweets = tweet_times.shape[0]\n",
    "    \n",
    "    ax2 = ax1.twinx()\n",
    "    # plt.vlines(tweet_times[one_month_df] * 60 / 10000, ymin=0, ymax=1200, color=c2, linewidth=0.5)\n",
    "    ax2.step(tweet_times, np.arange(num_tweets),\n",
    "             label='$N(t)$', color=c2, linewidth=1.0)\n",
    "    \n",
    "    ax2.set_ylabel('Tweets')\n",
    "    ax2.tick_params('y', colors=c2)\n",
    "    ax2.set_ylim(0)\n",
    "    \n",
    "    if title is not None:\n",
    "        plt.title(title)\n",
    "        \n",
    "    plt.tight_layout()"
   ]
  },
  {
   "cell_type": "code",
   "execution_count": 25,
   "metadata": {},
   "outputs": [
    {
     "data": {
      "image/png": "[encoded data removed]",
      "text/plain": [
       "<matplotlib.figure.Figure at 0x106eae748>"
      ]
     },
     "metadata": {},
     "output_type": "display_data"
    }
   ],
   "source": [
    "plot_top_k_evolution(opt_df, src_id, ymax=75, title='RedQueen')"
   ]
  },
  {
   "cell_type": "code",
   "execution_count": 26,
   "metadata": {},
   "outputs": [
    {
     "data": {
      "image/png": "[encoded data removed]",
      "text/plain": [
       "<matplotlib.figure.Figure at 0x1a192ce0b8>"
      ]
     },
     "metadata": {},
     "output_type": "display_data"
    }
   ],
   "source": [
    "plot_top_k_evolution(sp_df, src_id, ymax=75, title='Smart')"
   ]
  },
  {
   "cell_type": "code",
   "execution_count": 27,
   "metadata": {},
   "outputs": [
    {
     "data": {
      "image/png": "[encoded data removed]",
      "text/plain": [
       "<matplotlib.figure.Figure at 0x1a1938b9b0>"
      ]
     },
     "metadata": {},
     "output_type": "display_data"
    }
   ],
   "source": [
    "plot_top_k_evolution(poisson_df, src_id, ymax=75, title='Poisson')"
   ]
  },
  {
   "cell_type": "code",
   "execution_count": 28,
   "metadata": {},
   "outputs": [
    {
     "data": {
      "image/png": "[encoded data removed]",
      "text/plain": [
       "<matplotlib.figure.Figure at 0x1a1965beb8>"
      ]
     },
     "metadata": {},
     "output_type": "display_data"
    }
   ],
   "source": [
    "plot_top_k_evolution(pwc_df, src_id, ymax=60, title='Piecewise Const')"
   ]
  },
  {
   "cell_type": "code",
   "execution_count": 29,
   "metadata": {},
   "outputs": [
    {
     "data": {
      "image/png": "[encoded data removed]",
      "text/plain": [
       "<matplotlib.figure.Figure at 0x1a18cf2e80>"
      ]
     },
     "metadata": {},
     "output_type": "display_data"
    }
   ],
   "source": [
    "plot_top_k_evolution(hawkes_df, src_id, ymax=60, title='Hawkes')"
   ]
  },
  {
   "cell_type": "code",
   "execution_count": null,
   "metadata": {},
   "outputs": [],
   "source": []
  },
  {
   "cell_type": "code",
   "execution_count": null,
   "metadata": {
    "collapsed": true
   },
   "outputs": [],
   "source": []
  },
  {
   "cell_type": "code",
   "execution_count": null,
   "metadata": {
    "collapsed": true
   },
   "outputs": [],
   "source": []
  },
  {
   "cell_type": "code",
   "execution_count": null,
   "metadata": {
    "collapsed": true
   },
   "outputs": [],
   "source": []
  }
 ],
 "metadata": {
  "kernelspec": {
   "display_name": "Python 3",
   "language": "python",
   "name": "python3"
  },
  "language_info": {
   "codemirror_mode": {
    "name": "ipython",
    "version": 3
   },
   "file_extension": ".py",
   "mimetype": "text/x-python",
   "name": "python",
   "nbconvert_exporter": "python",
   "pygments_lexer": "ipython3",
   "version": "3.6.6"
  }
 },
 "nbformat": 4,
 "nbformat_minor": 1
}
